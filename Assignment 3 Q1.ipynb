{
 "cells": [
  {
   "cell_type": "markdown",
   "metadata": {},
   "source": [
    "## Q1"
   ]
  },
  {
   "cell_type": "code",
   "execution_count": 1,
   "metadata": {
    "scrolled": true
   },
   "outputs": [
    {
     "name": "stderr",
     "output_type": "stream",
     "text": [
      "Loading required package: mice\n",
      "Warning message:\n",
      "\"package 'mice' was built under R version 3.6.3\"\n",
      "Attaching package: 'mice'\n",
      "\n",
      "The following object is masked from 'package:stats':\n",
      "\n",
      "    filter\n",
      "\n",
      "The following objects are masked from 'package:base':\n",
      "\n",
      "    cbind, rbind\n",
      "\n"
     ]
    },
    {
     "data": {
      "text/html": [
       "<table>\n",
       "<thead><tr><th scope=col>age</th><th scope=col>bmi</th><th scope=col>hyp</th><th scope=col>chl</th></tr></thead>\n",
       "<tbody>\n",
       "\t<tr><td>1   </td><td>  NA</td><td>NA  </td><td> NA </td></tr>\n",
       "\t<tr><td>2   </td><td>22.7</td><td> 1  </td><td>187 </td></tr>\n",
       "\t<tr><td>1   </td><td>  NA</td><td> 1  </td><td>187 </td></tr>\n",
       "\t<tr><td>3   </td><td>  NA</td><td>NA  </td><td> NA </td></tr>\n",
       "\t<tr><td>1   </td><td>20.4</td><td> 1  </td><td>113 </td></tr>\n",
       "\t<tr><td>3   </td><td>  NA</td><td>NA  </td><td>184 </td></tr>\n",
       "\t<tr><td>1   </td><td>22.5</td><td> 1  </td><td>118 </td></tr>\n",
       "\t<tr><td>1   </td><td>30.1</td><td> 1  </td><td>187 </td></tr>\n",
       "\t<tr><td>2   </td><td>22.0</td><td> 1  </td><td>238 </td></tr>\n",
       "\t<tr><td>2   </td><td>  NA</td><td>NA  </td><td> NA </td></tr>\n",
       "\t<tr><td>1   </td><td>  NA</td><td>NA  </td><td> NA </td></tr>\n",
       "\t<tr><td>2   </td><td>  NA</td><td>NA  </td><td> NA </td></tr>\n",
       "\t<tr><td>3   </td><td>21.7</td><td> 1  </td><td>206 </td></tr>\n",
       "\t<tr><td>2   </td><td>28.7</td><td> 2  </td><td>204 </td></tr>\n",
       "\t<tr><td>1   </td><td>29.6</td><td> 1  </td><td> NA </td></tr>\n",
       "\t<tr><td>1   </td><td>  NA</td><td>NA  </td><td> NA </td></tr>\n",
       "\t<tr><td>3   </td><td>27.2</td><td> 2  </td><td>284 </td></tr>\n",
       "\t<tr><td>2   </td><td>26.3</td><td> 2  </td><td>199 </td></tr>\n",
       "\t<tr><td>1   </td><td>35.3</td><td> 1  </td><td>218 </td></tr>\n",
       "\t<tr><td>3   </td><td>25.5</td><td> 2  </td><td> NA </td></tr>\n",
       "\t<tr><td>1   </td><td>  NA</td><td>NA  </td><td> NA </td></tr>\n",
       "\t<tr><td>1   </td><td>33.2</td><td> 1  </td><td>229 </td></tr>\n",
       "\t<tr><td>1   </td><td>27.5</td><td> 1  </td><td>131 </td></tr>\n",
       "\t<tr><td>3   </td><td>24.9</td><td> 1  </td><td> NA </td></tr>\n",
       "\t<tr><td>2   </td><td>27.4</td><td> 1  </td><td>186 </td></tr>\n",
       "</tbody>\n",
       "</table>\n"
      ],
      "text/latex": [
       "\\begin{tabular}{r|llll}\n",
       " age & bmi & hyp & chl\\\\\n",
       "\\hline\n",
       "\t 1    &   NA & NA   &  NA \\\\\n",
       "\t 2    & 22.7 &  1   & 187 \\\\\n",
       "\t 1    &   NA &  1   & 187 \\\\\n",
       "\t 3    &   NA & NA   &  NA \\\\\n",
       "\t 1    & 20.4 &  1   & 113 \\\\\n",
       "\t 3    &   NA & NA   & 184 \\\\\n",
       "\t 1    & 22.5 &  1   & 118 \\\\\n",
       "\t 1    & 30.1 &  1   & 187 \\\\\n",
       "\t 2    & 22.0 &  1   & 238 \\\\\n",
       "\t 2    &   NA & NA   &  NA \\\\\n",
       "\t 1    &   NA & NA   &  NA \\\\\n",
       "\t 2    &   NA & NA   &  NA \\\\\n",
       "\t 3    & 21.7 &  1   & 206 \\\\\n",
       "\t 2    & 28.7 &  2   & 204 \\\\\n",
       "\t 1    & 29.6 &  1   &  NA \\\\\n",
       "\t 1    &   NA & NA   &  NA \\\\\n",
       "\t 3    & 27.2 &  2   & 284 \\\\\n",
       "\t 2    & 26.3 &  2   & 199 \\\\\n",
       "\t 1    & 35.3 &  1   & 218 \\\\\n",
       "\t 3    & 25.5 &  2   &  NA \\\\\n",
       "\t 1    &   NA & NA   &  NA \\\\\n",
       "\t 1    & 33.2 &  1   & 229 \\\\\n",
       "\t 1    & 27.5 &  1   & 131 \\\\\n",
       "\t 3    & 24.9 &  1   &  NA \\\\\n",
       "\t 2    & 27.4 &  1   & 186 \\\\\n",
       "\\end{tabular}\n"
      ],
      "text/markdown": [
       "\n",
       "| age | bmi | hyp | chl |\n",
       "|---|---|---|---|\n",
       "| 1    |   NA | NA   |  NA  |\n",
       "| 2    | 22.7 |  1   | 187  |\n",
       "| 1    |   NA |  1   | 187  |\n",
       "| 3    |   NA | NA   |  NA  |\n",
       "| 1    | 20.4 |  1   | 113  |\n",
       "| 3    |   NA | NA   | 184  |\n",
       "| 1    | 22.5 |  1   | 118  |\n",
       "| 1    | 30.1 |  1   | 187  |\n",
       "| 2    | 22.0 |  1   | 238  |\n",
       "| 2    |   NA | NA   |  NA  |\n",
       "| 1    |   NA | NA   |  NA  |\n",
       "| 2    |   NA | NA   |  NA  |\n",
       "| 3    | 21.7 |  1   | 206  |\n",
       "| 2    | 28.7 |  2   | 204  |\n",
       "| 1    | 29.6 |  1   |  NA  |\n",
       "| 1    |   NA | NA   |  NA  |\n",
       "| 3    | 27.2 |  2   | 284  |\n",
       "| 2    | 26.3 |  2   | 199  |\n",
       "| 1    | 35.3 |  1   | 218  |\n",
       "| 3    | 25.5 |  2   |  NA  |\n",
       "| 1    |   NA | NA   |  NA  |\n",
       "| 1    | 33.2 |  1   | 229  |\n",
       "| 1    | 27.5 |  1   | 131  |\n",
       "| 3    | 24.9 |  1   |  NA  |\n",
       "| 2    | 27.4 |  1   | 186  |\n",
       "\n"
      ],
      "text/plain": [
       "   age bmi  hyp chl\n",
       "1  1     NA NA   NA\n",
       "2  2   22.7  1  187\n",
       "3  1     NA  1  187\n",
       "4  3     NA NA   NA\n",
       "5  1   20.4  1  113\n",
       "6  3     NA NA  184\n",
       "7  1   22.5  1  118\n",
       "8  1   30.1  1  187\n",
       "9  2   22.0  1  238\n",
       "10 2     NA NA   NA\n",
       "11 1     NA NA   NA\n",
       "12 2     NA NA   NA\n",
       "13 3   21.7  1  206\n",
       "14 2   28.7  2  204\n",
       "15 1   29.6  1   NA\n",
       "16 1     NA NA   NA\n",
       "17 3   27.2  2  284\n",
       "18 2   26.3  2  199\n",
       "19 1   35.3  1  218\n",
       "20 3   25.5  2   NA\n",
       "21 1     NA NA   NA\n",
       "22 1   33.2  1  229\n",
       "23 1   27.5  1  131\n",
       "24 3   24.9  1   NA\n",
       "25 2   27.4  1  186"
      ]
     },
     "metadata": {},
     "output_type": "display_data"
    }
   ],
   "source": [
    "require(mice)\n",
    "data1 <- nhanes\n",
    "data1"
   ]
  },
  {
   "cell_type": "code",
   "execution_count": 2,
   "metadata": {},
   "outputs": [
    {
     "data": {
      "text/html": [
       "0.48"
      ],
      "text/latex": [
       "0.48"
      ],
      "text/markdown": [
       "0.48"
      ],
      "text/plain": [
       "[1] 0.48"
      ]
     },
     "metadata": {},
     "output_type": "display_data"
    }
   ],
   "source": [
    "# (a)\n",
    "imiss = 0\n",
    "for (i in 1:nrow(data1)){\n",
    "    row <- data1[i,]\n",
    "    if(is.na(row$age) | is.na(row$bmi) | is.na(row$hyp) | is.na(row$chl)){\n",
    "        imiss = imiss + 1\n",
    "    }\n",
    "}\n",
    "\n",
    "imiss/nrow(data1)"
   ]
  },
  {
   "cell_type": "code",
   "execution_count": 4,
   "metadata": {},
   "outputs": [],
   "source": [
    "#(b)\n",
    "# impute data using mice. REPEAT THIS FOR M=100 INSTEAD OF M=5!!\n",
    "imp_default <- mice(data = data1, m=5,  seed = 1, printFlag = FALSE)"
   ]
  },
  {
   "cell_type": "code",
   "execution_count": 5,
   "metadata": {},
   "outputs": [
    {
     "name": "stdout",
     "output_type": "stream",
     "text": [
      "Class: mipo    m = 5 \n",
      "         term m    estimate         ubar            b            t dfcom\n",
      "1 (Intercept) 5 19.61789252 10.588884721 0.8662133972 11.628340797    21\n",
      "2         hyp 5  2.19701748  2.886391704 1.2976511612  4.443573098    21\n",
      "3         chl 5  0.05378081  0.000287288 0.0001046083  0.000412818    21\n",
      "4         age 5 -3.55287155  0.744810536 1.3585594461  2.375081872    21\n",
      "         df        riv     lambda       fmi\n",
      "1 16.936189 0.09816483 0.08938989 0.1807424\n",
      "2  9.035494 0.53949067 0.35043452 0.4583762\n",
      "3 10.228828 0.43694808 0.30408063 0.4092932\n",
      "4  3.528053 2.18884032 0.68640637 0.7824821\n"
     ]
    }
   ],
   "source": [
    "fit <- with(data = imp_default, exp = lm(bmi ~ hyp + chl +  age))\n",
    "print(pool(fit))"
   ]
  },
  {
   "cell_type": "code",
   "execution_count": 6,
   "metadata": {},
   "outputs": [],
   "source": [
    "# repeating the analysis for seed = {2,3,4,5}\n",
    "imp_2 <- mice(data = data1, m = 5, seed = 2, printFlag = FALSE)\n",
    "imp_3 <- mice(data = data1, m = 5, seed = 3, printFlag = FALSE)\n",
    "imp_4 <- mice(data = data1,  m = 5, seed = 4, printFlag = FALSE)\n",
    "imp_5 <- mice(data = data1,  m = 5, seed = 5, printFlag = FALSE)"
   ]
  },
  {
   "cell_type": "code",
   "execution_count": 7,
   "metadata": {},
   "outputs": [
    {
     "name": "stdout",
     "output_type": "stream",
     "text": [
      "Class: mipo    m = 5 \n",
      "         term m   estimate         ubar            b            t dfcom\n",
      "1 (Intercept) 5 19.9464142 11.149036812 6.5759123307 19.040131609    21\n",
      "2         hyp 5  1.5304762  3.480239781 0.4843237089  4.061428231    21\n",
      "3         chl 5  0.0628349  0.000345515 0.0001210591  0.000490786    21\n",
      "4         age 5 -4.0615093  0.963673574 0.5429846700  1.615255178    21\n",
      "         df       riv    lambda       fmi\n",
      "1  7.595481 0.7077826 0.4144454 0.5249745\n",
      "2 15.210844 0.1669967 0.1430995 0.2372083\n",
      "3 10.450088 0.4204476 0.2959966 0.4006804\n",
      "4  7.827560 0.6761435 0.4033924 0.5135940\n"
     ]
    }
   ],
   "source": [
    "fit_2 <- with(data = imp_2, exp = lm(bmi ~ hyp + chl +  age))\n",
    "print(pool(fit_2))"
   ]
  },
  {
   "cell_type": "code",
   "execution_count": 8,
   "metadata": {},
   "outputs": [
    {
     "name": "stdout",
     "output_type": "stream",
     "text": [
      "Class: mipo    m = 5 \n",
      "         term m    estimate         ubar            b            t dfcom\n",
      "1 (Intercept) 5 20.55844343 1.140358e+01 3.6461139762 1.577892e+01    21\n",
      "2         hyp 5  1.35281238 2.848804e+00 1.6505168435 4.829425e+00    21\n",
      "3         chl 5  0.05872834 3.258177e-04 0.0003485725 7.441047e-04    21\n",
      "4         age 5 -3.85753338 9.589920e-01 1.1476609660 2.336185e+00    21\n",
      "         df       riv    lambda       fmi\n",
      "1 10.976712 0.3836809 0.2772900 0.3807063\n",
      "2  7.685607 0.6952461 0.4101152 0.5205225\n",
      "3  5.059752 1.2838067 0.5621346 0.6707894\n",
      "4  4.685401 1.4360840 0.5895051 0.6963297\n"
     ]
    }
   ],
   "source": [
    "fit_3 <- with(data = imp_3, exp = lm(bmi ~ hyp + chl +  age))\n",
    "print(pool(fit_3))"
   ]
  },
  {
   "cell_type": "code",
   "execution_count": 9,
   "metadata": {},
   "outputs": [
    {
     "name": "stdout",
     "output_type": "stream",
     "text": [
      "Class: mipo    m = 5 \n",
      "         term m    estimate         ubar            b            t dfcom\n",
      "1 (Intercept) 5 19.39540373 1.111012e+01 1.4019630652 1.279247e+01    21\n",
      "2         hyp 5  2.75053046 3.247001e+00 0.6600844963 4.039103e+00    21\n",
      "3         chl 5  0.04920611 2.813334e-04 0.0001157514 4.202351e-04    21\n",
      "4         age 5 -3.50603350 8.876847e-01 0.2073486445 1.136503e+00    21\n",
      "         df       riv    lambda       fmi\n",
      "1 15.591350 0.1514256 0.1315114 0.2249407\n",
      "2 13.470677 0.2439486 0.1961083 0.2937232\n",
      "3  9.532048 0.4937264 0.3305334 0.4373741\n",
      "4 12.740142 0.2803004 0.2189333 0.3181785\n"
     ]
    }
   ],
   "source": [
    "fit_4 <- with(data = imp_4, exp = lm(bmi ~ hyp + chl +  age))\n",
    "print(pool(fit_4))"
   ]
  },
  {
   "cell_type": "code",
   "execution_count": 10,
   "metadata": {},
   "outputs": [
    {
     "name": "stdout",
     "output_type": "stream",
     "text": [
      "Class: mipo    m = 5 \n",
      "         term m    estimate         ubar            b            t dfcom\n",
      "1 (Intercept) 5 19.17135935 1.146234e+01 9.016196e+00 2.228178e+01    21\n",
      "2         hyp 5  1.50954775 3.548122e+00 4.331055e+00 8.745388e+00    21\n",
      "3         chl 5  0.06081272 3.331396e-04 8.509425e-05 4.352527e-04    21\n",
      "4         age 5 -3.49672250 9.930838e-01 6.803640e-01 1.809521e+00    21\n",
      "         df       riv    lambda       fmi\n",
      "1  6.252823 0.9439114 0.4855733 0.5967667\n",
      "2  4.622453 1.4647938 0.5942866 0.7007388\n",
      "3 12.250235 0.3065175 0.2346065 0.3349844\n",
      "4  6.870551 0.8221228 0.4511896 0.5623912\n"
     ]
    }
   ],
   "source": [
    "fit_5 <- with(data = imp_5, exp = lm(bmi ~ hyp + chl +  age))\n",
    "print(pool(fit_5))"
   ]
  },
  {
   "cell_type": "code",
   "execution_count": null,
   "metadata": {},
   "outputs": [],
   "source": []
  }
 ],
 "metadata": {
  "kernelspec": {
   "display_name": "R",
   "language": "R",
   "name": "ir"
  },
  "language_info": {
   "codemirror_mode": "r",
   "file_extension": ".r",
   "mimetype": "text/x-r-source",
   "name": "R",
   "pygments_lexer": "r",
   "version": "3.6.1"
  }
 },
 "nbformat": 4,
 "nbformat_minor": 4
}
