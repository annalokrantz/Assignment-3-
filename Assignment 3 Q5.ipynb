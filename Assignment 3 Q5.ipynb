{
 "cells": [
  {
   "cell_type": "code",
   "execution_count": 2,
   "metadata": {},
   "outputs": [
    {
     "data": {
      "text/html": [
       "<ol class=list-inline>\n",
       "\t<li>500</li>\n",
       "\t<li>12</li>\n",
       "</ol>\n"
      ],
      "text/latex": [
       "\\begin{enumerate*}\n",
       "\\item 500\n",
       "\\item 12\n",
       "\\end{enumerate*}\n"
      ],
      "text/markdown": [
       "1. 500\n",
       "2. 12\n",
       "\n",
       "\n"
      ],
      "text/plain": [
       "[1] 500  12"
      ]
     },
     "metadata": {},
     "output_type": "display_data"
    }
   ],
   "source": [
    "load(\"NHANES2.RData\")\n",
    "dim(NHANES2)\n"
   ]
  },
  {
   "cell_type": "code",
   "execution_count": 3,
   "metadata": {},
   "outputs": [
    {
     "name": "stdout",
     "output_type": "stream",
     "text": [
      "'data.frame':\t500 obs. of  12 variables:\n",
      " $ wgt   : num  78 78 75.3 90.7 112 ...\n",
      " $ gender: Factor w/ 2 levels \"male\",\"female\": 1 1 2 1 2 1 2 2 1 1 ...\n",
      " $ bili  : num  1.1 0.7 0.5 0.8 0.6 0.7 1.1 0.8 0.8 0.5 ...\n",
      " $ age   : num  67 39 64 36 33 62 56 63 55 20 ...\n",
      " $ chol  : num  6.13 4.65 4.14 3.47 6.31 4.47 6.41 5.51 7.01 3.75 ...\n",
      " $ HDL   : num  1.09 1.14 1.29 1.37 1.27 0.85 1.81 2.38 2.79 1.03 ...\n",
      " $ hgt   : num  1.75 1.78 1.63 1.93 1.73 ...\n",
      " $ educ  : Ord.factor w/ 5 levels \"Less than 9th grade\"<..: 5 3 5 4 4 3 4 5 4 2 ...\n",
      " $ race  : Factor w/ 5 levels \"Mexican American\",..: 5 3 5 3 4 5 4 5 3 3 ...\n",
      " $ SBP   : num  139 103 NaN 115 107 ...\n",
      " $ hypten: Factor w/ 2 levels \"no\",\"yes\": 2 1 2 2 1 2 NA 1 2 1 ...\n",
      " $ WC    : num  91.6 84.5 91.6 95.4 119.6 ...\n"
     ]
    }
   ],
   "source": [
    "# Check variables\n",
    "str(NHANES2)"
   ]
  },
  {
   "cell_type": "code",
   "execution_count": 4,
   "metadata": {},
   "outputs": [
    {
     "data": {
      "text/plain": [
       "      wgt            gender         bili             age             chol      \n",
       " Min.   : 39.01   male  :252   Min.   :0.2000   Min.   :20.00   Min.   : 2.07  \n",
       " 1st Qu.: 65.20   female:248   1st Qu.:0.6000   1st Qu.:31.00   1st Qu.: 4.27  \n",
       " Median : 76.20                Median :0.7000   Median :43.00   Median : 4.86  \n",
       " Mean   : 78.25                Mean   :0.7404   Mean   :45.02   Mean   : 5.00  \n",
       " 3rd Qu.: 86.41                3rd Qu.:0.9000   3rd Qu.:58.00   3rd Qu.: 5.64  \n",
       " Max.   :167.38                Max.   :2.9000   Max.   :79.00   Max.   :10.68  \n",
       "                               NA's   :47                       NA's   :41     \n",
       "      HDL             hgt                          educ    \n",
       " Min.   :0.360   Min.   :1.397   Less than 9th grade : 31  \n",
       " 1st Qu.:1.110   1st Qu.:1.626   9-11th grade        : 69  \n",
       " Median :1.320   Median :1.676   High school graduate:115  \n",
       " Mean   :1.395   Mean   :1.687   some college        :148  \n",
       " 3rd Qu.:1.590   3rd Qu.:1.753   College or above    :136  \n",
       " Max.   :3.130   Max.   :1.930   NA's                :  1  \n",
       " NA's   :41      NA's   :11                                \n",
       "                 race          SBP          hypten          WC        \n",
       " Mexican American  : 52   Min.   : 81.33   no  :354   Min.   : 61.90  \n",
       " Other Hispanic    : 58   1st Qu.:109.00   yes :125   1st Qu.: 84.80  \n",
       " Non-Hispanic White:182   Median :118.67   NA's: 21   Median : 95.00  \n",
       " Non-Hispanic Black:112   Mean   :120.05              Mean   : 96.07  \n",
       " other             : 96   3rd Qu.:128.67              3rd Qu.:104.80  \n",
       "                          Max.   :202.00              Max.   :154.70  \n",
       "                          NA's   :29                  NA's   :23      "
      ]
     },
     "metadata": {},
     "output_type": "display_data"
    }
   ],
   "source": [
    "# Check limits\n",
    "summary(NHANES2)"
   ]
  },
  {
   "cell_type": "code",
   "execution_count": 5,
   "metadata": {},
   "outputs": [
    {
     "name": "stderr",
     "output_type": "stream",
     "text": [
      "Loading required package: mice\n",
      "Warning message:\n",
      "\"package 'mice' was built under R version 3.6.3\"\n",
      "Attaching package: 'mice'\n",
      "\n",
      "The following object is masked from 'package:stats':\n",
      "\n",
      "    filter\n",
      "\n",
      "The following objects are masked from 'package:base':\n",
      "\n",
      "    cbind, rbind\n",
      "\n"
     ]
    },
    {
     "data": {
      "text/plain": [
       "Class: mids\n",
       "Number of multiple imputations:  5 \n",
       "Imputation methods:\n",
       "     wgt   gender     bili      age     chol      HDL      hgt     educ \n",
       "      \"\"       \"\"    \"pmm\"       \"\"    \"pmm\"    \"pmm\"    \"pmm\"   \"polr\" \n",
       "    race      SBP   hypten       WC \n",
       "      \"\"    \"pmm\" \"logreg\"    \"pmm\" \n",
       "PredictorMatrix:\n",
       "       wgt gender bili age chol HDL hgt educ race SBP hypten WC\n",
       "wgt      0      1    1   1    1   1   1    1    1   1      1  1\n",
       "gender   1      0    1   1    1   1   1    1    1   1      1  1\n",
       "bili     1      1    0   1    1   1   1    1    1   1      1  1\n",
       "age      1      1    1   0    1   1   1    1    1   1      1  1\n",
       "chol     1      1    1   1    0   1   1    1    1   1      1  1\n",
       "HDL      1      1    1   1    1   0   1    1    1   1      1  1"
      ]
     },
     "metadata": {},
     "output_type": "display_data"
    }
   ],
   "source": [
    "# default dry run\n",
    "require(mice)\n",
    "imp0 <- mice(NHANES2, maxit = 0)\n",
    "imp0"
   ]
  },
  {
   "cell_type": "code",
   "execution_count": 6,
   "metadata": {},
   "outputs": [
    {
     "data": {
      "image/png": "[encoded data removed]",
      "text/plain": [
       "plot without title"
      ]
     },
     "metadata": {},
     "output_type": "display_data"
    }
   ],
   "source": [
    "library(JointAI)\n",
    "#pdf('joint.pdf')\n",
    "md_pattern(NHANES2, pattern = FALSE, color = c('#34111b', '#e30f41'))\n",
    "#dev.off()"
   ]
  },
  {
   "cell_type": "code",
   "execution_count": null,
   "metadata": {},
   "outputs": [],
   "source": [
    "# Check convergence\n",
    "pdf(\"it.pdf\")\n",
    "plot(imp, layout = c(6,6))\n",
    "dev.off()"
   ]
  },
  {
   "cell_type": "code",
   "execution_count": 5,
   "metadata": {},
   "outputs": [
    {
     "data": {
      "text/html": [
       "<strong>png:</strong> 2"
      ],
      "text/latex": [
       "\\textbf{png:} 2"
      ],
      "text/markdown": [
       "**png:** 2"
      ],
      "text/plain": [
       "png \n",
       "  2 "
      ]
     },
     "metadata": {},
     "output_type": "display_data"
    }
   ],
   "source": [
    "par(mar = c(3,3,2,1), mgp = c(2, 0.6,0))\n",
    "#pdf('plots.pdf')\n",
    "plot_all(NHANES2, breaks=30, ncol=4)\n",
    "#dev.off()"
   ]
  },
  {
   "cell_type": "code",
   "execution_count": null,
   "metadata": {},
   "outputs": [],
   "source": [
    "# density\n",
    "pdf(\"marginal_n.pdf\")\n",
    "densityplot(imp,~SBP|hypten + gender)\n",
    "dev.off()"
   ]
  },
  {
   "cell_type": "code",
   "execution_count": 8,
   "metadata": {},
   "outputs": [],
   "source": [
    "# could we use a normal distribution for something?\n",
    "imp <- mice(NHANES2, maxit=20, m=30, seed=1, printFlag=FALSE)"
   ]
  },
  {
   "cell_type": "code",
   "execution_count": 17,
   "metadata": {},
   "outputs": [
    {
     "name": "stderr",
     "output_type": "stream",
     "text": [
      "Warning message:\n",
      "\"package 'reshape2' is in use and will not be installed\"SHA-1 hash of file is f8e69c429689d084809da7ee99db4411def17c68\n",
      "Warning message:\n",
      "\"attributes are not identical across measure variables; they will be dropped\""
     ]
    },
    {
     "data": {
      "image/png": "[encoded data removed]",
      "text/plain": [
       "plot without title"
      ]
     },
     "metadata": {},
     "output_type": "display_data"
    }
   ],
   "source": [
    "install.packages(\"reshape2\")\n",
    "require(devtools)\n",
    "require(reshape2)\n",
    "require(RColorBrewer)\n",
    "require(ggplot2)\n",
    "source_url(\"https://gist.githubusercontent.com/NErler/0d00375da460dd33839b98faeee2fdab/raw/c6f537ecf80eddcefd94992ec7926aa57d454536/propplot.R\")\n",
    "\n",
    "propplot(imp)\n",
    "\n"
   ]
  },
  {
   "cell_type": "code",
   "execution_count": 18,
   "metadata": {},
   "outputs": [
    {
     "data": {
      "text/html": [
       "<table>\n",
       "<thead><tr><th scope=col>term</th><th scope=col>estimate</th><th scope=col>std.error</th><th scope=col>statistic</th><th scope=col>df</th><th scope=col>p.value</th><th scope=col>2.5 %</th><th scope=col>97.5 %</th></tr></thead>\n",
       "<tbody>\n",
       "\t<tr><td>(Intercept) </td><td>-100.8520702</td><td>7.67289217  </td><td>-13.143945  </td><td>449.6454    </td><td>0.000000e+00</td><td>-115.9312510</td><td>-85.7728894 </td></tr>\n",
       "\t<tr><td>genderfemale</td><td>  -1.3850796</td><td>0.83448095  </td><td> -1.659810  </td><td>469.9080    </td><td>9.761988e-02</td><td>  -3.0248557</td><td>  0.2546965 </td></tr>\n",
       "\t<tr><td>age         </td><td>  -0.1576829</td><td>0.02141424  </td><td> -7.363458  </td><td>451.6777    </td><td>8.562040e-13</td><td>  -0.1997668</td><td> -0.1155990 </td></tr>\n",
       "\t<tr><td>hgt         </td><td>  52.4292200</td><td>4.39636603  </td><td> 11.925581  </td><td>444.3719    </td><td>0.000000e+00</td><td>  43.7889680</td><td> 61.0694720 </td></tr>\n",
       "\t<tr><td>WC          </td><td>   1.0260613</td><td>0.02232811  </td><td> 45.953795  </td><td>481.3369    </td><td>0.000000e+00</td><td>   0.9821887</td><td>  1.0699340 </td></tr>\n",
       "</tbody>\n",
       "</table>\n"
      ],
      "text/latex": [
       "\\begin{tabular}{r|llllllll}\n",
       " term & estimate & std.error & statistic & df & p.value & 2.5 \\% & 97.5 \\%\\\\\n",
       "\\hline\n",
       "\t (Intercept)  & -100.8520702 & 7.67289217   & -13.143945   & 449.6454     & 0.000000e+00 & -115.9312510 & -85.7728894 \\\\\n",
       "\t genderfemale &   -1.3850796 & 0.83448095   &  -1.659810   & 469.9080     & 9.761988e-02 &   -3.0248557 &   0.2546965 \\\\\n",
       "\t age          &   -0.1576829 & 0.02141424   &  -7.363458   & 451.6777     & 8.562040e-13 &   -0.1997668 &  -0.1155990 \\\\\n",
       "\t hgt          &   52.4292200 & 4.39636603   &  11.925581   & 444.3719     & 0.000000e+00 &   43.7889680 &  61.0694720 \\\\\n",
       "\t WC           &    1.0260613 & 0.02232811   &  45.953795   & 481.3369     & 0.000000e+00 &    0.9821887 &   1.0699340 \\\\\n",
       "\\end{tabular}\n"
      ],
      "text/markdown": [
       "\n",
       "| term | estimate | std.error | statistic | df | p.value | 2.5 % | 97.5 % |\n",
       "|---|---|---|---|---|---|---|---|\n",
       "| (Intercept)  | -100.8520702 | 7.67289217   | -13.143945   | 449.6454     | 0.000000e+00 | -115.9312510 | -85.7728894  |\n",
       "| genderfemale |   -1.3850796 | 0.83448095   |  -1.659810   | 469.9080     | 9.761988e-02 |   -3.0248557 |   0.2546965  |\n",
       "| age          |   -0.1576829 | 0.02141424   |  -7.363458   | 451.6777     | 8.562040e-13 |   -0.1997668 |  -0.1155990  |\n",
       "| hgt          |   52.4292200 | 4.39636603   |  11.925581   | 444.3719     | 0.000000e+00 |   43.7889680 |  61.0694720  |\n",
       "| WC           |    1.0260613 | 0.02232811   |  45.953795   | 481.3369     | 0.000000e+00 |    0.9821887 |   1.0699340  |\n",
       "\n"
      ],
      "text/plain": [
       "  term         estimate     std.error  statistic  df       p.value     \n",
       "1 (Intercept)  -100.8520702 7.67289217 -13.143945 449.6454 0.000000e+00\n",
       "2 genderfemale   -1.3850796 0.83448095  -1.659810 469.9080 9.761988e-02\n",
       "3 age            -0.1576829 0.02141424  -7.363458 451.6777 8.562040e-13\n",
       "4 hgt            52.4292200 4.39636603  11.925581 444.3719 0.000000e+00\n",
       "5 WC              1.0260613 0.02232811  45.953795 481.3369 0.000000e+00\n",
       "  2.5 %        97.5 %     \n",
       "1 -115.9312510 -85.7728894\n",
       "2   -3.0248557   0.2546965\n",
       "3   -0.1997668  -0.1155990\n",
       "4   43.7889680  61.0694720\n",
       "5    0.9821887   1.0699340"
      ]
     },
     "metadata": {},
     "output_type": "display_data"
    }
   ],
   "source": [
    "fit <- with(imp, lm(wgt ~ gender + age + hgt + WC))\n",
    "\n",
    "est <- pool(fit)\n",
    "\n",
    "summary(est, conf.int=TRUE)"
   ]
  }
 ],
 "metadata": {
  "kernelspec": {
   "display_name": "R",
   "language": "R",
   "name": "ir"
  },
  "language_info": {
   "codemirror_mode": "r",
   "file_extension": ".r",
   "mimetype": "text/x-r-source",
   "name": "R",
   "pygments_lexer": "r",
   "version": "3.6.1"
  }
 },
 "nbformat": 4,
 "nbformat_minor": 4
}
