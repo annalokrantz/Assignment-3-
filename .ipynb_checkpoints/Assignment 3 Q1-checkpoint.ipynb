{
 "cells": [
  {
   "cell_type": "markdown",
   "metadata": {},
   "source": [
    "## Q1"
   ]
  },
  {
   "cell_type": "code",
   "execution_count": 3,
   "metadata": {
    "scrolled": true
   },
   "outputs": [
    {
     "name": "stderr",
     "output_type": "stream",
     "text": [
      "Loading required package: mice\n",
      "Warning message:\n",
      "\"package 'mice' was built under R version 3.6.3\"\n",
      "Attaching package: 'mice'\n",
      "\n",
      "The following object is masked from 'package:stats':\n",
      "\n",
      "    filter\n",
      "\n",
      "The following objects are masked from 'package:base':\n",
      "\n",
      "    cbind, rbind\n",
      "\n"
     ]
    },
    {
     "data": {
      "text/html": [
       "<table>\n",
       "<thead><tr><th scope=col>age</th><th scope=col>bmi</th><th scope=col>hyp</th><th scope=col>chl</th></tr></thead>\n",
       "<tbody>\n",
       "\t<tr><td>1   </td><td>  NA</td><td>NA  </td><td> NA </td></tr>\n",
       "\t<tr><td>2   </td><td>22.7</td><td> 1  </td><td>187 </td></tr>\n",
       "\t<tr><td>1   </td><td>  NA</td><td> 1  </td><td>187 </td></tr>\n",
       "\t<tr><td>3   </td><td>  NA</td><td>NA  </td><td> NA </td></tr>\n",
       "\t<tr><td>1   </td><td>20.4</td><td> 1  </td><td>113 </td></tr>\n",
       "\t<tr><td>3   </td><td>  NA</td><td>NA  </td><td>184 </td></tr>\n",
       "\t<tr><td>1   </td><td>22.5</td><td> 1  </td><td>118 </td></tr>\n",
       "\t<tr><td>1   </td><td>30.1</td><td> 1  </td><td>187 </td></tr>\n",
       "\t<tr><td>2   </td><td>22.0</td><td> 1  </td><td>238 </td></tr>\n",
       "\t<tr><td>2   </td><td>  NA</td><td>NA  </td><td> NA </td></tr>\n",
       "\t<tr><td>1   </td><td>  NA</td><td>NA  </td><td> NA </td></tr>\n",
       "\t<tr><td>2   </td><td>  NA</td><td>NA  </td><td> NA </td></tr>\n",
       "\t<tr><td>3   </td><td>21.7</td><td> 1  </td><td>206 </td></tr>\n",
       "\t<tr><td>2   </td><td>28.7</td><td> 2  </td><td>204 </td></tr>\n",
       "\t<tr><td>1   </td><td>29.6</td><td> 1  </td><td> NA </td></tr>\n",
       "\t<tr><td>1   </td><td>  NA</td><td>NA  </td><td> NA </td></tr>\n",
       "\t<tr><td>3   </td><td>27.2</td><td> 2  </td><td>284 </td></tr>\n",
       "\t<tr><td>2   </td><td>26.3</td><td> 2  </td><td>199 </td></tr>\n",
       "\t<tr><td>1   </td><td>35.3</td><td> 1  </td><td>218 </td></tr>\n",
       "\t<tr><td>3   </td><td>25.5</td><td> 2  </td><td> NA </td></tr>\n",
       "\t<tr><td>1   </td><td>  NA</td><td>NA  </td><td> NA </td></tr>\n",
       "\t<tr><td>1   </td><td>33.2</td><td> 1  </td><td>229 </td></tr>\n",
       "\t<tr><td>1   </td><td>27.5</td><td> 1  </td><td>131 </td></tr>\n",
       "\t<tr><td>3   </td><td>24.9</td><td> 1  </td><td> NA </td></tr>\n",
       "\t<tr><td>2   </td><td>27.4</td><td> 1  </td><td>186 </td></tr>\n",
       "</tbody>\n",
       "</table>\n"
      ],
      "text/latex": [
       "\\begin{tabular}{r|llll}\n",
       " age & bmi & hyp & chl\\\\\n",
       "\\hline\n",
       "\t 1    &   NA & NA   &  NA \\\\\n",
       "\t 2    & 22.7 &  1   & 187 \\\\\n",
       "\t 1    &   NA &  1   & 187 \\\\\n",
       "\t 3    &   NA & NA   &  NA \\\\\n",
       "\t 1    & 20.4 &  1   & 113 \\\\\n",
       "\t 3    &   NA & NA   & 184 \\\\\n",
       "\t 1    & 22.5 &  1   & 118 \\\\\n",
       "\t 1    & 30.1 &  1   & 187 \\\\\n",
       "\t 2    & 22.0 &  1   & 238 \\\\\n",
       "\t 2    &   NA & NA   &  NA \\\\\n",
       "\t 1    &   NA & NA   &  NA \\\\\n",
       "\t 2    &   NA & NA   &  NA \\\\\n",
       "\t 3    & 21.7 &  1   & 206 \\\\\n",
       "\t 2    & 28.7 &  2   & 204 \\\\\n",
       "\t 1    & 29.6 &  1   &  NA \\\\\n",
       "\t 1    &   NA & NA   &  NA \\\\\n",
       "\t 3    & 27.2 &  2   & 284 \\\\\n",
       "\t 2    & 26.3 &  2   & 199 \\\\\n",
       "\t 1    & 35.3 &  1   & 218 \\\\\n",
       "\t 3    & 25.5 &  2   &  NA \\\\\n",
       "\t 1    &   NA & NA   &  NA \\\\\n",
       "\t 1    & 33.2 &  1   & 229 \\\\\n",
       "\t 1    & 27.5 &  1   & 131 \\\\\n",
       "\t 3    & 24.9 &  1   &  NA \\\\\n",
       "\t 2    & 27.4 &  1   & 186 \\\\\n",
       "\\end{tabular}\n"
      ],
      "text/markdown": [
       "\n",
       "| age | bmi | hyp | chl |\n",
       "|---|---|---|---|\n",
       "| 1    |   NA | NA   |  NA  |\n",
       "| 2    | 22.7 |  1   | 187  |\n",
       "| 1    |   NA |  1   | 187  |\n",
       "| 3    |   NA | NA   |  NA  |\n",
       "| 1    | 20.4 |  1   | 113  |\n",
       "| 3    |   NA | NA   | 184  |\n",
       "| 1    | 22.5 |  1   | 118  |\n",
       "| 1    | 30.1 |  1   | 187  |\n",
       "| 2    | 22.0 |  1   | 238  |\n",
       "| 2    |   NA | NA   |  NA  |\n",
       "| 1    |   NA | NA   |  NA  |\n",
       "| 2    |   NA | NA   |  NA  |\n",
       "| 3    | 21.7 |  1   | 206  |\n",
       "| 2    | 28.7 |  2   | 204  |\n",
       "| 1    | 29.6 |  1   |  NA  |\n",
       "| 1    |   NA | NA   |  NA  |\n",
       "| 3    | 27.2 |  2   | 284  |\n",
       "| 2    | 26.3 |  2   | 199  |\n",
       "| 1    | 35.3 |  1   | 218  |\n",
       "| 3    | 25.5 |  2   |  NA  |\n",
       "| 1    |   NA | NA   |  NA  |\n",
       "| 1    | 33.2 |  1   | 229  |\n",
       "| 1    | 27.5 |  1   | 131  |\n",
       "| 3    | 24.9 |  1   |  NA  |\n",
       "| 2    | 27.4 |  1   | 186  |\n",
       "\n"
      ],
      "text/plain": [
       "   age bmi  hyp chl\n",
       "1  1     NA NA   NA\n",
       "2  2   22.7  1  187\n",
       "3  1     NA  1  187\n",
       "4  3     NA NA   NA\n",
       "5  1   20.4  1  113\n",
       "6  3     NA NA  184\n",
       "7  1   22.5  1  118\n",
       "8  1   30.1  1  187\n",
       "9  2   22.0  1  238\n",
       "10 2     NA NA   NA\n",
       "11 1     NA NA   NA\n",
       "12 2     NA NA   NA\n",
       "13 3   21.7  1  206\n",
       "14 2   28.7  2  204\n",
       "15 1   29.6  1   NA\n",
       "16 1     NA NA   NA\n",
       "17 3   27.2  2  284\n",
       "18 2   26.3  2  199\n",
       "19 1   35.3  1  218\n",
       "20 3   25.5  2   NA\n",
       "21 1     NA NA   NA\n",
       "22 1   33.2  1  229\n",
       "23 1   27.5  1  131\n",
       "24 3   24.9  1   NA\n",
       "25 2   27.4  1  186"
      ]
     },
     "metadata": {},
     "output_type": "display_data"
    }
   ],
   "source": [
    "require(mice)\n",
    "data1 <- nhanes\n",
    "data1"
   ]
  },
  {
   "cell_type": "code",
   "execution_count": 18,
   "metadata": {},
   "outputs": [],
   "source": [
    "#(a)\n",
    "\n",
    "lenna = 0\n",
    "len = 0\n",
    "for (col in colnames(data1)){\n",
    "    indna <- which(is.na(data1[[col]]) == TRUE)\n",
    "    ind <- which(is.na(data1[[col]]) == FALSE)\n",
    "    #print(data1[[col]])\n",
    "    len = len + length(ind)\n",
    "    lenna = lenna + length(indna)\n",
    "}\n",
    "#ind <- which(is.na(data1$WC) == FALSE)"
   ]
  },
  {
   "cell_type": "code",
   "execution_count": 19,
   "metadata": {},
   "outputs": [
    {
     "data": {
      "text/html": [
       "0.36986301369863"
      ],
      "text/latex": [
       "0.36986301369863"
      ],
      "text/markdown": [
       "0.36986301369863"
      ],
      "text/plain": [
       "[1] 0.369863"
      ]
     },
     "metadata": {},
     "output_type": "display_data"
    }
   ],
   "source": [
    "lenna/len"
   ]
  },
  {
   "cell_type": "code",
   "execution_count": 13,
   "metadata": {},
   "outputs": [
    {
     "data": {
      "text/html": [
       "0.48"
      ],
      "text/latex": [
       "0.48"
      ],
      "text/markdown": [
       "0.48"
      ],
      "text/plain": [
       "[1] 0.48"
      ]
     },
     "metadata": {},
     "output_type": "display_data"
    }
   ],
   "source": [
    "imiss = 0\n",
    "for (i in 1:nrow(data1)){\n",
    "    row <- data1[i,]\n",
    "    if(is.na(row$age) | is.na(row$bmi) | is.na(row$hyp) | is.na(row$chl)){\n",
    "        imiss = imiss + 1\n",
    "    }\n",
    "}\n",
    "\n",
    "imiss/nrow(data1)"
   ]
  },
  {
   "cell_type": "code",
   "execution_count": 15,
   "metadata": {},
   "outputs": [],
   "source": [
    "#(b)\n",
    "# impute data using mice. REPEAT THIS FOR M=100 INSTEAD OF M=5!!!\n",
    "imp_default <- mice(data = data1, seed = 1, printFlag = FALSE)"
   ]
  },
  {
   "cell_type": "code",
   "execution_count": 19,
   "metadata": {},
   "outputs": [
    {
     "name": "stdout",
     "output_type": "stream",
     "text": [
      "Class: mipo    m = 5 \n",
      "         term m    estimate         ubar            b            t dfcom\n",
      "1 (Intercept) 5 19.61789252 10.588884721 0.8662133972 11.628340797    21\n",
      "2         hyp 5  2.19701748  2.886391704 1.2976511612  4.443573098    21\n",
      "3         chl 5  0.05378081  0.000287288 0.0001046083  0.000412818    21\n",
      "4         age 5 -3.55287155  0.744810536 1.3585594461  2.375081872    21\n",
      "         df        riv     lambda       fmi\n",
      "1 16.936189 0.09816483 0.08938989 0.1807424\n",
      "2  9.035494 0.53949067 0.35043452 0.4583762\n",
      "3 10.228828 0.43694808 0.30408063 0.4092932\n",
      "4  3.528053 2.18884032 0.68640637 0.7824821\n"
     ]
    }
   ],
   "source": [
    "fit <- with(data = imp_default, exp = lm(bmi ~ hyp + chl +  age))\n",
    "print(pool(fit))"
   ]
  },
  {
   "cell_type": "code",
   "execution_count": 25,
   "metadata": {},
   "outputs": [],
   "source": [
    "# repeating the analysis for seed = {2,3,4,5}\n",
    "imp_2 <- mice(data = data1, seed = 2, printFlag = FALSE)\n",
    "imp_3 <- mice(data = data1, seed = 3, printFlag = FALSE)\n",
    "imp_4 <- mice(data = data1, seed = 4, printFlag = FALSE)\n",
    "imp_5 <- mice(data = data1, seed = 5, printFlag = FALSE)"
   ]
  },
  {
   "cell_type": "code",
   "execution_count": 26,
   "metadata": {},
   "outputs": [
    {
     "data": {
      "text/html": [
       "<table>\n",
       "<thead><tr><th scope=col>term</th><th scope=col>estimate</th><th scope=col>std.error</th><th scope=col>statistic</th><th scope=col>df</th><th scope=col>p.value</th></tr></thead>\n",
       "<tbody>\n",
       "\t<tr><td>(Intercept)</td><td>19.9464142 </td><td>4.36349993 </td><td> 4.571196  </td><td> 7.595481  </td><td>0.002083932</td></tr>\n",
       "\t<tr><td>hyp        </td><td> 1.5304762 </td><td>2.01529855 </td><td> 0.759429  </td><td>15.210844  </td><td>0.459204412</td></tr>\n",
       "\t<tr><td>chl        </td><td> 0.0628349 </td><td>0.02215369 </td><td> 2.836317  </td><td>10.450088  </td><td>0.016956575</td></tr>\n",
       "\t<tr><td>age        </td><td>-4.0615093 </td><td>1.27092690 </td><td>-3.195706  </td><td> 7.827560  </td><td>0.013061972</td></tr>\n",
       "</tbody>\n",
       "</table>\n"
      ],
      "text/latex": [
       "\\begin{tabular}{r|llllll}\n",
       " term & estimate & std.error & statistic & df & p.value\\\\\n",
       "\\hline\n",
       "\t (Intercept) & 19.9464142  & 4.36349993  &  4.571196   &  7.595481   & 0.002083932\\\\\n",
       "\t hyp         &  1.5304762  & 2.01529855  &  0.759429   & 15.210844   & 0.459204412\\\\\n",
       "\t chl         &  0.0628349  & 0.02215369  &  2.836317   & 10.450088   & 0.016956575\\\\\n",
       "\t age         & -4.0615093  & 1.27092690  & -3.195706   &  7.827560   & 0.013061972\\\\\n",
       "\\end{tabular}\n"
      ],
      "text/markdown": [
       "\n",
       "| term | estimate | std.error | statistic | df | p.value |\n",
       "|---|---|---|---|---|---|\n",
       "| (Intercept) | 19.9464142  | 4.36349993  |  4.571196   |  7.595481   | 0.002083932 |\n",
       "| hyp         |  1.5304762  | 2.01529855  |  0.759429   | 15.210844   | 0.459204412 |\n",
       "| chl         |  0.0628349  | 0.02215369  |  2.836317   | 10.450088   | 0.016956575 |\n",
       "| age         | -4.0615093  | 1.27092690  | -3.195706   |  7.827560   | 0.013061972 |\n",
       "\n"
      ],
      "text/plain": [
       "  term        estimate   std.error  statistic df        p.value    \n",
       "1 (Intercept) 19.9464142 4.36349993  4.571196  7.595481 0.002083932\n",
       "2 hyp          1.5304762 2.01529855  0.759429 15.210844 0.459204412\n",
       "3 chl          0.0628349 0.02215369  2.836317 10.450088 0.016956575\n",
       "4 age         -4.0615093 1.27092690 -3.195706  7.827560 0.013061972"
      ]
     },
     "metadata": {},
     "output_type": "display_data"
    }
   ],
   "source": [
    "fit_2 <- with(data = imp_2, exp = lm(bmi ~ hyp + chl +  age))\n",
    "print(pool(fit_2))"
   ]
  },
  {
   "cell_type": "code",
   "execution_count": 27,
   "metadata": {},
   "outputs": [
    {
     "data": {
      "text/html": [
       "<table>\n",
       "<thead><tr><th scope=col>term</th><th scope=col>estimate</th><th scope=col>std.error</th><th scope=col>statistic</th><th scope=col>df</th><th scope=col>p.value</th></tr></thead>\n",
       "<tbody>\n",
       "\t<tr><td>(Intercept)</td><td>20.55844343</td><td>3.97226884 </td><td> 5.1754914 </td><td>10.976712  </td><td>0.000307981</td></tr>\n",
       "\t<tr><td>hyp        </td><td> 1.35281238</td><td>2.19759517 </td><td> 0.6155876 </td><td> 7.685607  </td><td>0.555952054</td></tr>\n",
       "\t<tr><td>chl        </td><td> 0.05872834</td><td>0.02727828 </td><td> 2.1529340 </td><td> 5.059752  </td><td>0.083285020</td></tr>\n",
       "\t<tr><td>age        </td><td>-3.85753338</td><td>1.52845844 </td><td>-2.5238065 </td><td> 4.685401  </td><td>0.056159642</td></tr>\n",
       "</tbody>\n",
       "</table>\n"
      ],
      "text/latex": [
       "\\begin{tabular}{r|llllll}\n",
       " term & estimate & std.error & statistic & df & p.value\\\\\n",
       "\\hline\n",
       "\t (Intercept) & 20.55844343 & 3.97226884  &  5.1754914  & 10.976712   & 0.000307981\\\\\n",
       "\t hyp         &  1.35281238 & 2.19759517  &  0.6155876  &  7.685607   & 0.555952054\\\\\n",
       "\t chl         &  0.05872834 & 0.02727828  &  2.1529340  &  5.059752   & 0.083285020\\\\\n",
       "\t age         & -3.85753338 & 1.52845844  & -2.5238065  &  4.685401   & 0.056159642\\\\\n",
       "\\end{tabular}\n"
      ],
      "text/markdown": [
       "\n",
       "| term | estimate | std.error | statistic | df | p.value |\n",
       "|---|---|---|---|---|---|\n",
       "| (Intercept) | 20.55844343 | 3.97226884  |  5.1754914  | 10.976712   | 0.000307981 |\n",
       "| hyp         |  1.35281238 | 2.19759517  |  0.6155876  |  7.685607   | 0.555952054 |\n",
       "| chl         |  0.05872834 | 0.02727828  |  2.1529340  |  5.059752   | 0.083285020 |\n",
       "| age         | -3.85753338 | 1.52845844  | -2.5238065  |  4.685401   | 0.056159642 |\n",
       "\n"
      ],
      "text/plain": [
       "  term        estimate    std.error  statistic  df        p.value    \n",
       "1 (Intercept) 20.55844343 3.97226884  5.1754914 10.976712 0.000307981\n",
       "2 hyp          1.35281238 2.19759517  0.6155876  7.685607 0.555952054\n",
       "3 chl          0.05872834 0.02727828  2.1529340  5.059752 0.083285020\n",
       "4 age         -3.85753338 1.52845844 -2.5238065  4.685401 0.056159642"
      ]
     },
     "metadata": {},
     "output_type": "display_data"
    }
   ],
   "source": [
    "fit_3 <- with(data = imp_3, exp = lm(bmi ~ hyp + chl +  age))\n",
    "print(pool(fit_3))"
   ]
  },
  {
   "cell_type": "code",
   "execution_count": 28,
   "metadata": {},
   "outputs": [
    {
     "data": {
      "text/html": [
       "<table>\n",
       "<thead><tr><th scope=col>term</th><th scope=col>estimate</th><th scope=col>std.error</th><th scope=col>statistic</th><th scope=col>df</th><th scope=col>p.value</th></tr></thead>\n",
       "<tbody>\n",
       "\t<tr><td>(Intercept) </td><td>19.39540373 </td><td>3.57665642  </td><td> 5.422775   </td><td>15.591350   </td><td>6.168639e-05</td></tr>\n",
       "\t<tr><td>hyp         </td><td> 2.75053046 </td><td>2.00975193  </td><td> 1.368592   </td><td>13.470677   </td><td>1.935191e-01</td></tr>\n",
       "\t<tr><td>chl         </td><td> 0.04920611 </td><td>0.02049964  </td><td> 2.400340   </td><td> 9.532048   </td><td>3.842988e-02</td></tr>\n",
       "\t<tr><td>age         </td><td>-3.50603350 </td><td>1.06606899  </td><td>-3.288749   </td><td>12.740142   </td><td>6.017910e-03</td></tr>\n",
       "</tbody>\n",
       "</table>\n"
      ],
      "text/latex": [
       "\\begin{tabular}{r|llllll}\n",
       " term & estimate & std.error & statistic & df & p.value\\\\\n",
       "\\hline\n",
       "\t (Intercept)  & 19.39540373  & 3.57665642   &  5.422775    & 15.591350    & 6.168639e-05\\\\\n",
       "\t hyp          &  2.75053046  & 2.00975193   &  1.368592    & 13.470677    & 1.935191e-01\\\\\n",
       "\t chl          &  0.04920611  & 0.02049964   &  2.400340    &  9.532048    & 3.842988e-02\\\\\n",
       "\t age          & -3.50603350  & 1.06606899   & -3.288749    & 12.740142    & 6.017910e-03\\\\\n",
       "\\end{tabular}\n"
      ],
      "text/markdown": [
       "\n",
       "| term | estimate | std.error | statistic | df | p.value |\n",
       "|---|---|---|---|---|---|\n",
       "| (Intercept)  | 19.39540373  | 3.57665642   |  5.422775    | 15.591350    | 6.168639e-05 |\n",
       "| hyp          |  2.75053046  | 2.00975193   |  1.368592    | 13.470677    | 1.935191e-01 |\n",
       "| chl          |  0.04920611  | 0.02049964   |  2.400340    |  9.532048    | 3.842988e-02 |\n",
       "| age          | -3.50603350  | 1.06606899   | -3.288749    | 12.740142    | 6.017910e-03 |\n",
       "\n"
      ],
      "text/plain": [
       "  term        estimate    std.error  statistic df        p.value     \n",
       "1 (Intercept) 19.39540373 3.57665642  5.422775 15.591350 6.168639e-05\n",
       "2 hyp          2.75053046 2.00975193  1.368592 13.470677 1.935191e-01\n",
       "3 chl          0.04920611 0.02049964  2.400340  9.532048 3.842988e-02\n",
       "4 age         -3.50603350 1.06606899 -3.288749 12.740142 6.017910e-03"
      ]
     },
     "metadata": {},
     "output_type": "display_data"
    }
   ],
   "source": [
    "fit_4 <- with(data = imp_4, exp = lm(bmi ~ hyp + chl +  age))\n",
    "print(pool(fit_4))"
   ]
  },
  {
   "cell_type": "code",
   "execution_count": 29,
   "metadata": {},
   "outputs": [
    {
     "data": {
      "text/html": [
       "<table>\n",
       "<thead><tr><th scope=col>term</th><th scope=col>estimate</th><th scope=col>std.error</th><th scope=col>statistic</th><th scope=col>df</th><th scope=col>p.value</th></tr></thead>\n",
       "<tbody>\n",
       "\t<tr><td>(Intercept)</td><td>19.17135935</td><td>4.72035771 </td><td> 4.0614209 </td><td> 6.252823  </td><td>0.006088277</td></tr>\n",
       "\t<tr><td>hyp        </td><td> 1.50954775</td><td>2.95726023 </td><td> 0.5104548 </td><td> 4.622453  </td><td>0.633158537</td></tr>\n",
       "\t<tr><td>chl        </td><td> 0.06081272</td><td>0.02086271 </td><td> 2.9149004 </td><td>12.250235  </td><td>0.012719752</td></tr>\n",
       "\t<tr><td>age        </td><td>-3.49672250</td><td>1.34518423 </td><td>-2.5994376 </td><td> 6.870551  </td><td>0.036037680</td></tr>\n",
       "</tbody>\n",
       "</table>\n"
      ],
      "text/latex": [
       "\\begin{tabular}{r|llllll}\n",
       " term & estimate & std.error & statistic & df & p.value\\\\\n",
       "\\hline\n",
       "\t (Intercept) & 19.17135935 & 4.72035771  &  4.0614209  &  6.252823   & 0.006088277\\\\\n",
       "\t hyp         &  1.50954775 & 2.95726023  &  0.5104548  &  4.622453   & 0.633158537\\\\\n",
       "\t chl         &  0.06081272 & 0.02086271  &  2.9149004  & 12.250235   & 0.012719752\\\\\n",
       "\t age         & -3.49672250 & 1.34518423  & -2.5994376  &  6.870551   & 0.036037680\\\\\n",
       "\\end{tabular}\n"
      ],
      "text/markdown": [
       "\n",
       "| term | estimate | std.error | statistic | df | p.value |\n",
       "|---|---|---|---|---|---|\n",
       "| (Intercept) | 19.17135935 | 4.72035771  |  4.0614209  |  6.252823   | 0.006088277 |\n",
       "| hyp         |  1.50954775 | 2.95726023  |  0.5104548  |  4.622453   | 0.633158537 |\n",
       "| chl         |  0.06081272 | 0.02086271  |  2.9149004  | 12.250235   | 0.012719752 |\n",
       "| age         | -3.49672250 | 1.34518423  | -2.5994376  |  6.870551   | 0.036037680 |\n",
       "\n"
      ],
      "text/plain": [
       "  term        estimate    std.error  statistic  df        p.value    \n",
       "1 (Intercept) 19.17135935 4.72035771  4.0614209  6.252823 0.006088277\n",
       "2 hyp          1.50954775 2.95726023  0.5104548  4.622453 0.633158537\n",
       "3 chl          0.06081272 0.02086271  2.9149004 12.250235 0.012719752\n",
       "4 age         -3.49672250 1.34518423 -2.5994376  6.870551 0.036037680"
      ]
     },
     "metadata": {},
     "output_type": "display_data"
    }
   ],
   "source": [
    "fit_5 <- with(data = imp_5, exp = lm(bmi ~ hyp + chl +  age))\n",
    "print(pool(fit_5))"
   ]
  },
  {
   "cell_type": "code",
   "execution_count": null,
   "metadata": {},
   "outputs": [],
   "source": []
  }
 ],
 "metadata": {
  "kernelspec": {
   "display_name": "R",
   "language": "R",
   "name": "ir"
  },
  "language_info": {
   "codemirror_mode": "r",
   "file_extension": ".r",
   "mimetype": "text/x-r-source",
   "name": "R",
   "pygments_lexer": "r",
   "version": "3.6.1"
  }
 },
 "nbformat": 4,
 "nbformat_minor": 4
}
